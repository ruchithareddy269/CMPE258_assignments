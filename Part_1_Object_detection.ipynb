{
 "cells": [
  {
   "cell_type": "markdown",
   "metadata": {
    "id": "GJtY6CzxuydF"
   },
   "source": [
    "# Assignment 03 Part A - FastAI\n",
    "\n",
    "## Assignment Description\n",
    "\n",
    "Perform the following task:\n",
    "Use FastAI to write a detailed Colab notebook that shows training and inference for the following task using FastAI. Showcase results and metrics:\n",
    "\n",
    "- Vision object detection task"
   ]
  },
  {
   "cell_type": "markdown",
   "metadata": {
    "id": "ZyJVVk85vbac"
   },
   "source": [
    "### Setup"
   ]
  },
  {
   "cell_type": "code",
   "execution_count": null,
   "metadata": {
    "colab": {
     "base_uri": "https://localhost:8080/"
    },
    "id": "lt6lQ_LmxfhD",
    "outputId": "998eb270-49e0-41fe-82b4-d508e9668115"
   },
   "outputs": [
    {
     "name": "stdout",
     "output_type": "stream",
     "text": [
      "Mounted at /content/drive\n"
     ]
    }
   ],
   "source": [
    "from google.colab import drive\n",
    "drive.mount('/content/drive')"
   ]
  },
  {
   "cell_type": "code",
   "execution_count": 6,
   "metadata": {
    "colab": {
     "base_uri": "https://localhost:8080/"
    },
    "id": "-5a6BccpiLyI",
    "outputId": "2fd0ab14-3a45-4d40-d776-4de90d99d0ca"
   },
   "outputs": [
    {
     "name": "stdout",
     "output_type": "stream",
     "text": [
      "Requirement already satisfied: fastai in c:\\users\\amart\\appdata\\local\\programs\\python\\python39\\lib\\site-packages (2.7.14)\n",
      "Requirement already satisfied: pip in c:\\users\\amart\\appdata\\local\\programs\\python\\python39\\lib\\site-packages (from fastai) (23.3.2)\n",
      "Requirement already satisfied: packaging in c:\\users\\amart\\appdata\\local\\programs\\python\\python39\\lib\\site-packages (from fastai) (23.2)\n",
      "Requirement already satisfied: fastdownload<2,>=0.0.5 in c:\\users\\amart\\appdata\\local\\programs\\python\\python39\\lib\\site-packages (from fastai) (0.0.7)\n",
      "Requirement already satisfied: fastcore<1.6,>=1.5.29 in c:\\users\\amart\\appdata\\local\\programs\\python\\python39\\lib\\site-packages (from fastai) (1.5.29)\n",
      "Requirement already satisfied: torchvision>=0.11 in c:\\users\\amart\\appdata\\local\\programs\\python\\python39\\lib\\site-packages (from fastai) (0.17.1)\n",
      "Requirement already satisfied: matplotlib in c:\\users\\amart\\appdata\\local\\programs\\python\\python39\\lib\\site-packages (from fastai) (3.8.2)\n",
      "Requirement already satisfied: pandas in c:\\users\\amart\\appdata\\roaming\\python\\python39\\site-packages (from fastai) (1.3.3)\n",
      "Requirement already satisfied: requests in c:\\users\\amart\\appdata\\local\\programs\\python\\python39\\lib\\site-packages (from fastai) (2.31.0)\n",
      "Requirement already satisfied: pyyaml in c:\\users\\amart\\appdata\\local\\programs\\python\\python39\\lib\\site-packages (from fastai) (6.0.1)\n",
      "Requirement already satisfied: fastprogress>=0.2.4 in c:\\users\\amart\\appdata\\local\\programs\\python\\python39\\lib\\site-packages (from fastai) (1.0.3)\n",
      "Requirement already satisfied: pillow>=9.0.0 in c:\\users\\amart\\appdata\\local\\programs\\python\\python39\\lib\\site-packages (from fastai) (10.2.0)\n",
      "Requirement already satisfied: scikit-learn in c:\\users\\amart\\appdata\\local\\programs\\python\\python39\\lib\\site-packages (from fastai) (1.4.1.post1)\n",
      "Requirement already satisfied: scipy in c:\\users\\amart\\appdata\\roaming\\python\\python39\\site-packages (from fastai) (1.7.3)\n",
      "Requirement already satisfied: spacy<4 in c:\\users\\amart\\appdata\\local\\programs\\python\\python39\\lib\\site-packages (from fastai) (3.7.4)\n",
      "Requirement already satisfied: torch<2.3,>=1.10 in c:\\users\\amart\\appdata\\local\\programs\\python\\python39\\lib\\site-packages (from fastai) (2.2.1)\n",
      "Requirement already satisfied: spacy-legacy<3.1.0,>=3.0.11 in c:\\users\\amart\\appdata\\local\\programs\\python\\python39\\lib\\site-packages (from spacy<4->fastai) (3.0.12)\n",
      "Requirement already satisfied: spacy-loggers<2.0.0,>=1.0.0 in c:\\users\\amart\\appdata\\local\\programs\\python\\python39\\lib\\site-packages (from spacy<4->fastai) (1.0.5)\n",
      "Requirement already satisfied: murmurhash<1.1.0,>=0.28.0 in c:\\users\\amart\\appdata\\local\\programs\\python\\python39\\lib\\site-packages (from spacy<4->fastai) (1.0.10)\n",
      "Requirement already satisfied: cymem<2.1.0,>=2.0.2 in c:\\users\\amart\\appdata\\local\\programs\\python\\python39\\lib\\site-packages (from spacy<4->fastai) (2.0.8)\n",
      "Requirement already satisfied: preshed<3.1.0,>=3.0.2 in c:\\users\\amart\\appdata\\local\\programs\\python\\python39\\lib\\site-packages (from spacy<4->fastai) (3.0.9)\n",
      "Requirement already satisfied: thinc<8.3.0,>=8.2.2 in c:\\users\\amart\\appdata\\local\\programs\\python\\python39\\lib\\site-packages (from spacy<4->fastai) (8.2.3)\n",
      "Requirement already satisfied: wasabi<1.2.0,>=0.9.1 in c:\\users\\amart\\appdata\\local\\programs\\python\\python39\\lib\\site-packages (from spacy<4->fastai) (1.1.2)\n",
      "Requirement already satisfied: srsly<3.0.0,>=2.4.3 in c:\\users\\amart\\appdata\\local\\programs\\python\\python39\\lib\\site-packages (from spacy<4->fastai) (2.4.8)\n",
      "Requirement already satisfied: catalogue<2.1.0,>=2.0.6 in c:\\users\\amart\\appdata\\local\\programs\\python\\python39\\lib\\site-packages (from spacy<4->fastai) (2.0.10)\n",
      "Requirement already satisfied: weasel<0.4.0,>=0.1.0 in c:\\users\\amart\\appdata\\local\\programs\\python\\python39\\lib\\site-packages (from spacy<4->fastai) (0.3.4)\n",
      "Requirement already satisfied: typer<0.10.0,>=0.3.0 in c:\\users\\amart\\appdata\\local\\programs\\python\\python39\\lib\\site-packages (from spacy<4->fastai) (0.9.4)\n",
      "Requirement already satisfied: smart-open<7.0.0,>=5.2.1 in c:\\users\\amart\\appdata\\local\\programs\\python\\python39\\lib\\site-packages (from spacy<4->fastai) (6.4.0)\n",
      "Requirement already satisfied: tqdm<5.0.0,>=4.38.0 in c:\\users\\amart\\appdata\\local\\programs\\python\\python39\\lib\\site-packages (from spacy<4->fastai) (4.66.1)\n",
      "Requirement already satisfied: pydantic!=1.8,!=1.8.1,<3.0.0,>=1.7.4 in c:\\users\\amart\\appdata\\local\\programs\\python\\python39\\lib\\site-packages (from spacy<4->fastai) (2.6.4)\n",
      "Requirement already satisfied: jinja2 in c:\\users\\amart\\appdata\\local\\programs\\python\\python39\\lib\\site-packages (from spacy<4->fastai) (3.1.2)\n",
      "Requirement already satisfied: setuptools in c:\\users\\amart\\appdata\\local\\programs\\python\\python39\\lib\\site-packages (from spacy<4->fastai) (58.1.0)\n",
      "Requirement already satisfied: langcodes<4.0.0,>=3.2.0 in c:\\users\\amart\\appdata\\local\\programs\\python\\python39\\lib\\site-packages (from spacy<4->fastai) (3.3.0)\n",
      "Requirement already satisfied: numpy>=1.19.0 in c:\\users\\amart\\appdata\\local\\programs\\python\\python39\\lib\\site-packages (from spacy<4->fastai) (1.22.4)\n",
      "Requirement already satisfied: charset-normalizer<4,>=2 in c:\\users\\amart\\appdata\\local\\programs\\python\\python39\\lib\\site-packages (from requests->fastai) (3.3.2)\n",
      "Requirement already satisfied: idna<4,>=2.5 in c:\\users\\amart\\appdata\\local\\programs\\python\\python39\\lib\\site-packages (from requests->fastai) (3.6)\n",
      "Requirement already satisfied: urllib3<3,>=1.21.1 in c:\\users\\amart\\appdata\\local\\programs\\python\\python39\\lib\\site-packages (from requests->fastai) (2.1.0)\n",
      "Requirement already satisfied: certifi>=2017.4.17 in c:\\users\\amart\\appdata\\local\\programs\\python\\python39\\lib\\site-packages (from requests->fastai) (2023.11.17)\n",
      "Requirement already satisfied: filelock in c:\\users\\amart\\appdata\\local\\programs\\python\\python39\\lib\\site-packages (from torch<2.3,>=1.10->fastai) (3.13.1)\n",
      "Requirement already satisfied: typing-extensions>=4.8.0 in c:\\users\\amart\\appdata\\local\\programs\\python\\python39\\lib\\site-packages (from torch<2.3,>=1.10->fastai) (4.9.0)\n",
      "Requirement already satisfied: sympy in c:\\users\\amart\\appdata\\local\\programs\\python\\python39\\lib\\site-packages (from torch<2.3,>=1.10->fastai) (1.12)\n",
      "Requirement already satisfied: networkx in c:\\users\\amart\\appdata\\local\\programs\\python\\python39\\lib\\site-packages (from torch<2.3,>=1.10->fastai) (3.2.1)\n",
      "Requirement already satisfied: fsspec in c:\\users\\amart\\appdata\\local\\programs\\python\\python39\\lib\\site-packages (from torch<2.3,>=1.10->fastai) (2023.12.2)\n",
      "Requirement already satisfied: contourpy>=1.0.1 in c:\\users\\amart\\appdata\\local\\programs\\python\\python39\\lib\\site-packages (from matplotlib->fastai) (1.2.0)\n",
      "Requirement already satisfied: cycler>=0.10 in c:\\users\\amart\\appdata\\roaming\\python\\python39\\site-packages (from matplotlib->fastai) (0.11.0)\n",
      "Requirement already satisfied: fonttools>=4.22.0 in c:\\users\\amart\\appdata\\local\\programs\\python\\python39\\lib\\site-packages (from matplotlib->fastai) (4.47.0)\n",
      "Requirement already satisfied: kiwisolver>=1.3.1 in c:\\users\\amart\\appdata\\local\\programs\\python\\python39\\lib\\site-packages (from matplotlib->fastai) (1.4.5)\n",
      "Requirement already satisfied: pyparsing>=2.3.1 in c:\\users\\amart\\appdata\\local\\programs\\python\\python39\\lib\\site-packages (from matplotlib->fastai) (3.1.1)\n",
      "Requirement already satisfied: python-dateutil>=2.7 in c:\\users\\amart\\appdata\\local\\programs\\python\\python39\\lib\\site-packages (from matplotlib->fastai) (2.8.2)\n",
      "Requirement already satisfied: importlib-resources>=3.2.0 in c:\\users\\amart\\appdata\\local\\programs\\python\\python39\\lib\\site-packages (from matplotlib->fastai) (6.1.1)\n",
      "Requirement already satisfied: pytz>=2017.3 in c:\\users\\amart\\appdata\\local\\programs\\python\\python39\\lib\\site-packages (from pandas->fastai) (2023.3.post1)\n",
      "Requirement already satisfied: joblib>=1.2.0 in c:\\users\\amart\\appdata\\local\\programs\\python\\python39\\lib\\site-packages (from scikit-learn->fastai) (1.3.2)\n",
      "Requirement already satisfied: threadpoolctl>=2.0.0 in c:\\users\\amart\\appdata\\local\\programs\\python\\python39\\lib\\site-packages (from scikit-learn->fastai) (3.4.0)\n",
      "Requirement already satisfied: zipp>=3.1.0 in c:\\users\\amart\\appdata\\local\\programs\\python\\python39\\lib\\site-packages (from importlib-resources>=3.2.0->matplotlib->fastai) (3.17.0)\n",
      "Requirement already satisfied: annotated-types>=0.4.0 in c:\\users\\amart\\appdata\\local\\programs\\python\\python39\\lib\\site-packages (from pydantic!=1.8,!=1.8.1,<3.0.0,>=1.7.4->spacy<4->fastai) (0.6.0)\n",
      "Requirement already satisfied: pydantic-core==2.16.3 in c:\\users\\amart\\appdata\\local\\programs\\python\\python39\\lib\\site-packages (from pydantic!=1.8,!=1.8.1,<3.0.0,>=1.7.4->spacy<4->fastai) (2.16.3)\n",
      "Requirement already satisfied: six>=1.5 in c:\\users\\amart\\appdata\\local\\programs\\python\\python39\\lib\\site-packages (from python-dateutil>=2.7->matplotlib->fastai) (1.16.0)\n",
      "Requirement already satisfied: blis<0.8.0,>=0.7.8 in c:\\users\\amart\\appdata\\local\\programs\\python\\python39\\lib\\site-packages (from thinc<8.3.0,>=8.2.2->spacy<4->fastai) (0.7.11)\n",
      "Requirement already satisfied: confection<1.0.0,>=0.0.1 in c:\\users\\amart\\appdata\\local\\programs\\python\\python39\\lib\\site-packages (from thinc<8.3.0,>=8.2.2->spacy<4->fastai) (0.1.4)\n",
      "Requirement already satisfied: colorama in c:\\users\\amart\\appdata\\local\\programs\\python\\python39\\lib\\site-packages (from tqdm<5.0.0,>=4.38.0->spacy<4->fastai) (0.4.6)\n",
      "Requirement already satisfied: click<9.0.0,>=7.1.1 in c:\\users\\amart\\appdata\\local\\programs\\python\\python39\\lib\\site-packages (from typer<0.10.0,>=0.3.0->spacy<4->fastai) (8.1.7)\n",
      "Requirement already satisfied: cloudpathlib<0.17.0,>=0.7.0 in c:\\users\\amart\\appdata\\local\\programs\\python\\python39\\lib\\site-packages (from weasel<0.4.0,>=0.1.0->spacy<4->fastai) (0.16.0)\n",
      "Requirement already satisfied: MarkupSafe>=2.0 in c:\\users\\amart\\appdata\\local\\programs\\python\\python39\\lib\\site-packages (from jinja2->spacy<4->fastai) (2.1.3)\n",
      "Requirement already satisfied: mpmath>=0.19 in c:\\users\\amart\\appdata\\local\\programs\\python\\python39\\lib\\site-packages (from sympy->torch<2.3,>=1.10->fastai) (1.3.0)\n"
     ]
    },
    {
     "name": "stderr",
     "output_type": "stream",
     "text": [
      "\n",
      "[notice] A new release of pip is available: 23.3.2 -> 24.0\n",
      "[notice] To update, run: python.exe -m pip install --upgrade pip\n"
     ]
    },
    {
     "name": "stdout",
     "output_type": "stream",
     "text": [
      "Requirement already satisfied: ucimlrepo in c:\\users\\amart\\appdata\\local\\programs\\python\\python39\\lib\\site-packages (0.0.6)\n"
     ]
    },
    {
     "name": "stderr",
     "output_type": "stream",
     "text": [
      "\n",
      "[notice] A new release of pip is available: 23.3.2 -> 24.0\n",
      "[notice] To update, run: python.exe -m pip install --upgrade pip\n"
     ]
    }
   ],
   "source": [
    "!pip install fastai\n",
    "!pip install ucimlrepo"
   ]
  },
  {
   "cell_type": "code",
   "execution_count": 3,
   "metadata": {
    "id": "1UHqEGwgkupA"
   },
   "outputs": [],
   "source": [
    "from fastai.vision.all import *\n",
    "from fastai.tabular.all import *\n",
    "from fastai.text.all import *\n",
    "from fastai.vision import *\n",
    "from fastai.collab import *\n",
    "from io import BytesIO\n",
    "import pandas as pd\n",
    "import requests\n",
    "import os"
   ]
  },
  {
   "cell_type": "markdown",
   "metadata": {
    "id": "e0sP-JQZvAjJ"
   },
   "source": [
    "###**Vision Object Detection Task**"
   ]
  },
  {
   "cell_type": "code",
   "execution_count": 8,
   "metadata": {
    "colab": {
     "base_uri": "https://localhost:8080/",
     "height": 1000
    },
    "id": "0KxvGIVhD0dO",
    "outputId": "01367a0f-3d40-468b-e854-dcdc5915bb5f"
   },
   "outputs": [
    {
     "name": "stdout",
     "output_type": "stream",
     "text": [
      "Collecting git+https://github.com/rbrtwlz/fastai_object_detection\n",
      "  Cloning https://github.com/rbrtwlz/fastai_object_detection to c:\\users\\amart\\appdata\\local\\temp\\pip-req-build-me6fh1qd\n",
      "  Resolved https://github.com/rbrtwlz/fastai_object_detection to commit 8935053a856e1bbaa793f9b9abb3922365ef3c8d\n",
      "  Preparing metadata (setup.py): started\n",
      "  Preparing metadata (setup.py): finished with status 'done'\n",
      "Collecting mean_average_precision@ git+https://github.com/bes-dev/mean_average_precision (from fastai-object-detection==0.0.1)\n",
      "  Cloning https://github.com/bes-dev/mean_average_precision to c:\\users\\amart\\appdata\\local\\temp\\pip-install-b93d_zxo\\mean-average-precision_2898f562abb54be3b27cf69c3873287a\n",
      "  Resolved https://github.com/bes-dev/mean_average_precision to commit 477749cf84cb7136f38974c454ee7206df447dc5\n",
      "  Preparing metadata (setup.py): started\n",
      "  Preparing metadata (setup.py): finished with status 'done'\n",
      "Collecting torch==1.11.0 (from fastai-object-detection==0.0.1)\n",
      "  Downloading torch-1.11.0-cp39-cp39-win_amd64.whl.metadata (24 kB)\n",
      "Collecting torchvision==0.12.0 (from fastai-object-detection==0.0.1)\n",
      "  Downloading torchvision-0.12.0-cp39-cp39-win_amd64.whl.metadata (10 kB)\n",
      "Collecting fastai==2.6.3 (from fastai-object-detection==0.0.1)\n",
      "  Downloading fastai-2.6.3-py3-none-any.whl.metadata (10 kB)\n",
      "Collecting pycocotools (from fastai-object-detection==0.0.1)\n",
      "  Downloading pycocotools-2.0.7-cp39-cp39-win_amd64.whl.metadata (1.1 kB)\n",
      "Requirement already satisfied: pip in c:\\users\\amart\\appdata\\local\\programs\\python\\python39\\lib\\site-packages (from fastai==2.6.3->fastai-object-detection==0.0.1) (23.3.2)\n",
      "Requirement already satisfied: packaging in c:\\users\\amart\\appdata\\local\\programs\\python\\python39\\lib\\site-packages (from fastai==2.6.3->fastai-object-detection==0.0.1) (23.2)\n",
      "Requirement already satisfied: fastdownload<2,>=0.0.5 in c:\\users\\amart\\appdata\\local\\programs\\python\\python39\\lib\\site-packages (from fastai==2.6.3->fastai-object-detection==0.0.1) (0.0.7)\n",
      "Collecting fastcore<1.5,>=1.3.27 (from fastai==2.6.3->fastai-object-detection==0.0.1)\n",
      "  Downloading fastcore-1.4.5-py3-none-any.whl.metadata (16 kB)\n",
      "Requirement already satisfied: matplotlib in c:\\users\\amart\\appdata\\local\\programs\\python\\python39\\lib\\site-packages (from fastai==2.6.3->fastai-object-detection==0.0.1) (3.8.2)\n",
      "Requirement already satisfied: pandas in c:\\users\\amart\\appdata\\roaming\\python\\python39\\site-packages (from fastai==2.6.3->fastai-object-detection==0.0.1) (1.3.3)\n",
      "Requirement already satisfied: requests in c:\\users\\amart\\appdata\\local\\programs\\python\\python39\\lib\\site-packages (from fastai==2.6.3->fastai-object-detection==0.0.1) (2.31.0)\n",
      "Requirement already satisfied: pyyaml in c:\\users\\amart\\appdata\\local\\programs\\python\\python39\\lib\\site-packages (from fastai==2.6.3->fastai-object-detection==0.0.1) (6.0.1)\n",
      "Requirement already satisfied: fastprogress>=0.2.4 in c:\\users\\amart\\appdata\\local\\programs\\python\\python39\\lib\\site-packages (from fastai==2.6.3->fastai-object-detection==0.0.1) (1.0.3)\n",
      "Requirement already satisfied: pillow>6.0.0 in c:\\users\\amart\\appdata\\local\\programs\\python\\python39\\lib\\site-packages (from fastai==2.6.3->fastai-object-detection==0.0.1) (10.2.0)\n",
      "Requirement already satisfied: scikit-learn in c:\\users\\amart\\appdata\\local\\programs\\python\\python39\\lib\\site-packages (from fastai==2.6.3->fastai-object-detection==0.0.1) (1.4.1.post1)\n",
      "Requirement already satisfied: scipy in c:\\users\\amart\\appdata\\roaming\\python\\python39\\site-packages (from fastai==2.6.3->fastai-object-detection==0.0.1) (1.7.3)\n",
      "Requirement already satisfied: spacy<4 in c:\\users\\amart\\appdata\\local\\programs\\python\\python39\\lib\\site-packages (from fastai==2.6.3->fastai-object-detection==0.0.1) (3.7.4)\n",
      "Requirement already satisfied: typing-extensions in c:\\users\\amart\\appdata\\local\\programs\\python\\python39\\lib\\site-packages (from torch==1.11.0->fastai-object-detection==0.0.1) (4.9.0)\n",
      "Requirement already satisfied: numpy in c:\\users\\amart\\appdata\\local\\programs\\python\\python39\\lib\\site-packages (from torchvision==0.12.0->fastai-object-detection==0.0.1) (1.22.4)\n",
      "Requirement already satisfied: contourpy>=1.0.1 in c:\\users\\amart\\appdata\\local\\programs\\python\\python39\\lib\\site-packages (from matplotlib->fastai==2.6.3->fastai-object-detection==0.0.1) (1.2.0)\n",
      "Requirement already satisfied: cycler>=0.10 in c:\\users\\amart\\appdata\\roaming\\python\\python39\\site-packages (from matplotlib->fastai==2.6.3->fastai-object-detection==0.0.1) (0.11.0)\n",
      "Requirement already satisfied: fonttools>=4.22.0 in c:\\users\\amart\\appdata\\local\\programs\\python\\python39\\lib\\site-packages (from matplotlib->fastai==2.6.3->fastai-object-detection==0.0.1) (4.47.0)\n",
      "Requirement already satisfied: kiwisolver>=1.3.1 in c:\\users\\amart\\appdata\\local\\programs\\python\\python39\\lib\\site-packages (from matplotlib->fastai==2.6.3->fastai-object-detection==0.0.1) (1.4.5)\n",
      "Requirement already satisfied: pyparsing>=2.3.1 in c:\\users\\amart\\appdata\\local\\programs\\python\\python39\\lib\\site-packages (from matplotlib->fastai==2.6.3->fastai-object-detection==0.0.1) (3.1.1)\n",
      "Requirement already satisfied: python-dateutil>=2.7 in c:\\users\\amart\\appdata\\local\\programs\\python\\python39\\lib\\site-packages (from matplotlib->fastai==2.6.3->fastai-object-detection==0.0.1) (2.8.2)\n",
      "Requirement already satisfied: importlib-resources>=3.2.0 in c:\\users\\amart\\appdata\\local\\programs\\python\\python39\\lib\\site-packages (from matplotlib->fastai==2.6.3->fastai-object-detection==0.0.1) (6.1.1)\n",
      "Requirement already satisfied: spacy-legacy<3.1.0,>=3.0.11 in c:\\users\\amart\\appdata\\local\\programs\\python\\python39\\lib\\site-packages (from spacy<4->fastai==2.6.3->fastai-object-detection==0.0.1) (3.0.12)\n",
      "Requirement already satisfied: spacy-loggers<2.0.0,>=1.0.0 in c:\\users\\amart\\appdata\\local\\programs\\python\\python39\\lib\\site-packages (from spacy<4->fastai==2.6.3->fastai-object-detection==0.0.1) (1.0.5)\n",
      "Requirement already satisfied: murmurhash<1.1.0,>=0.28.0 in c:\\users\\amart\\appdata\\local\\programs\\python\\python39\\lib\\site-packages (from spacy<4->fastai==2.6.3->fastai-object-detection==0.0.1) (1.0.10)\n",
      "Requirement already satisfied: cymem<2.1.0,>=2.0.2 in c:\\users\\amart\\appdata\\local\\programs\\python\\python39\\lib\\site-packages (from spacy<4->fastai==2.6.3->fastai-object-detection==0.0.1) (2.0.8)\n",
      "Requirement already satisfied: preshed<3.1.0,>=3.0.2 in c:\\users\\amart\\appdata\\local\\programs\\python\\python39\\lib\\site-packages (from spacy<4->fastai==2.6.3->fastai-object-detection==0.0.1) (3.0.9)\n",
      "Requirement already satisfied: thinc<8.3.0,>=8.2.2 in c:\\users\\amart\\appdata\\local\\programs\\python\\python39\\lib\\site-packages (from spacy<4->fastai==2.6.3->fastai-object-detection==0.0.1) (8.2.3)\n",
      "Requirement already satisfied: wasabi<1.2.0,>=0.9.1 in c:\\users\\amart\\appdata\\local\\programs\\python\\python39\\lib\\site-packages (from spacy<4->fastai==2.6.3->fastai-object-detection==0.0.1) (1.1.2)\n",
      "Requirement already satisfied: srsly<3.0.0,>=2.4.3 in c:\\users\\amart\\appdata\\local\\programs\\python\\python39\\lib\\site-packages (from spacy<4->fastai==2.6.3->fastai-object-detection==0.0.1) (2.4.8)\n",
      "Requirement already satisfied: catalogue<2.1.0,>=2.0.6 in c:\\users\\amart\\appdata\\local\\programs\\python\\python39\\lib\\site-packages (from spacy<4->fastai==2.6.3->fastai-object-detection==0.0.1) (2.0.10)\n",
      "Requirement already satisfied: weasel<0.4.0,>=0.1.0 in c:\\users\\amart\\appdata\\local\\programs\\python\\python39\\lib\\site-packages (from spacy<4->fastai==2.6.3->fastai-object-detection==0.0.1) (0.3.4)\n",
      "Requirement already satisfied: typer<0.10.0,>=0.3.0 in c:\\users\\amart\\appdata\\local\\programs\\python\\python39\\lib\\site-packages (from spacy<4->fastai==2.6.3->fastai-object-detection==0.0.1) (0.9.4)\n",
      "Requirement already satisfied: smart-open<7.0.0,>=5.2.1 in c:\\users\\amart\\appdata\\local\\programs\\python\\python39\\lib\\site-packages (from spacy<4->fastai==2.6.3->fastai-object-detection==0.0.1) (6.4.0)\n",
      "Requirement already satisfied: tqdm<5.0.0,>=4.38.0 in c:\\users\\amart\\appdata\\local\\programs\\python\\python39\\lib\\site-packages (from spacy<4->fastai==2.6.3->fastai-object-detection==0.0.1) (4.66.1)\n",
      "Requirement already satisfied: pydantic!=1.8,!=1.8.1,<3.0.0,>=1.7.4 in c:\\users\\amart\\appdata\\local\\programs\\python\\python39\\lib\\site-packages (from spacy<4->fastai==2.6.3->fastai-object-detection==0.0.1) (2.6.4)\n",
      "Requirement already satisfied: jinja2 in c:\\users\\amart\\appdata\\local\\programs\\python\\python39\\lib\\site-packages (from spacy<4->fastai==2.6.3->fastai-object-detection==0.0.1) (3.1.2)\n",
      "Requirement already satisfied: setuptools in c:\\users\\amart\\appdata\\local\\programs\\python\\python39\\lib\\site-packages (from spacy<4->fastai==2.6.3->fastai-object-detection==0.0.1) (58.1.0)\n",
      "Requirement already satisfied: langcodes<4.0.0,>=3.2.0 in c:\\users\\amart\\appdata\\local\\programs\\python\\python39\\lib\\site-packages (from spacy<4->fastai==2.6.3->fastai-object-detection==0.0.1) (3.3.0)\n",
      "Requirement already satisfied: charset-normalizer<4,>=2 in c:\\users\\amart\\appdata\\local\\programs\\python\\python39\\lib\\site-packages (from requests->fastai==2.6.3->fastai-object-detection==0.0.1) (3.3.2)\n",
      "Requirement already satisfied: idna<4,>=2.5 in c:\\users\\amart\\appdata\\local\\programs\\python\\python39\\lib\\site-packages (from requests->fastai==2.6.3->fastai-object-detection==0.0.1) (3.6)\n",
      "Requirement already satisfied: urllib3<3,>=1.21.1 in c:\\users\\amart\\appdata\\local\\programs\\python\\python39\\lib\\site-packages (from requests->fastai==2.6.3->fastai-object-detection==0.0.1) (2.1.0)\n",
      "Requirement already satisfied: certifi>=2017.4.17 in c:\\users\\amart\\appdata\\local\\programs\\python\\python39\\lib\\site-packages (from requests->fastai==2.6.3->fastai-object-detection==0.0.1) (2023.11.17)\n",
      "Requirement already satisfied: pytz>=2017.3 in c:\\users\\amart\\appdata\\local\\programs\\python\\python39\\lib\\site-packages (from pandas->fastai==2.6.3->fastai-object-detection==0.0.1) (2023.3.post1)\n",
      "Requirement already satisfied: joblib>=1.2.0 in c:\\users\\amart\\appdata\\local\\programs\\python\\python39\\lib\\site-packages (from scikit-learn->fastai==2.6.3->fastai-object-detection==0.0.1) (1.3.2)\n",
      "Requirement already satisfied: threadpoolctl>=2.0.0 in c:\\users\\amart\\appdata\\local\\programs\\python\\python39\\lib\\site-packages (from scikit-learn->fastai==2.6.3->fastai-object-detection==0.0.1) (3.4.0)\n",
      "Requirement already satisfied: zipp>=3.1.0 in c:\\users\\amart\\appdata\\local\\programs\\python\\python39\\lib\\site-packages (from importlib-resources>=3.2.0->matplotlib->fastai==2.6.3->fastai-object-detection==0.0.1) (3.17.0)\n",
      "Requirement already satisfied: annotated-types>=0.4.0 in c:\\users\\amart\\appdata\\local\\programs\\python\\python39\\lib\\site-packages (from pydantic!=1.8,!=1.8.1,<3.0.0,>=1.7.4->spacy<4->fastai==2.6.3->fastai-object-detection==0.0.1) (0.6.0)\n",
      "Requirement already satisfied: pydantic-core==2.16.3 in c:\\users\\amart\\appdata\\local\\programs\\python\\python39\\lib\\site-packages (from pydantic!=1.8,!=1.8.1,<3.0.0,>=1.7.4->spacy<4->fastai==2.6.3->fastai-object-detection==0.0.1) (2.16.3)\n",
      "Requirement already satisfied: six>=1.5 in c:\\users\\amart\\appdata\\local\\programs\\python\\python39\\lib\\site-packages (from python-dateutil>=2.7->matplotlib->fastai==2.6.3->fastai-object-detection==0.0.1) (1.16.0)\n",
      "Requirement already satisfied: blis<0.8.0,>=0.7.8 in c:\\users\\amart\\appdata\\local\\programs\\python\\python39\\lib\\site-packages (from thinc<8.3.0,>=8.2.2->spacy<4->fastai==2.6.3->fastai-object-detection==0.0.1) (0.7.11)\n",
      "Requirement already satisfied: confection<1.0.0,>=0.0.1 in c:\\users\\amart\\appdata\\local\\programs\\python\\python39\\lib\\site-packages (from thinc<8.3.0,>=8.2.2->spacy<4->fastai==2.6.3->fastai-object-detection==0.0.1) (0.1.4)\n",
      "Requirement already satisfied: colorama in c:\\users\\amart\\appdata\\local\\programs\\python\\python39\\lib\\site-packages (from tqdm<5.0.0,>=4.38.0->spacy<4->fastai==2.6.3->fastai-object-detection==0.0.1) (0.4.6)\n",
      "Requirement already satisfied: click<9.0.0,>=7.1.1 in c:\\users\\amart\\appdata\\local\\programs\\python\\python39\\lib\\site-packages (from typer<0.10.0,>=0.3.0->spacy<4->fastai==2.6.3->fastai-object-detection==0.0.1) (8.1.7)\n",
      "Requirement already satisfied: cloudpathlib<0.17.0,>=0.7.0 in c:\\users\\amart\\appdata\\local\\programs\\python\\python39\\lib\\site-packages (from weasel<0.4.0,>=0.1.0->spacy<4->fastai==2.6.3->fastai-object-detection==0.0.1) (0.16.0)\n",
      "Requirement already satisfied: MarkupSafe>=2.0 in c:\\users\\amart\\appdata\\local\\programs\\python\\python39\\lib\\site-packages (from jinja2->spacy<4->fastai==2.6.3->fastai-object-detection==0.0.1) (2.1.3)\n",
      "Downloading fastai-2.6.3-py3-none-any.whl (197 kB)\n",
      "   ---------------------------------------- 0.0/197.9 kB ? eta -:--:--\n",
      "   ---------------------------------------- 197.9/197.9 kB 6.1 MB/s eta 0:00:00\n",
      "Downloading torch-1.11.0-cp39-cp39-win_amd64.whl (157.9 MB)\n",
      "   ---------------------------------------- 0.0/157.9 MB ? eta -:--:--\n",
      "   ---------------------------------------- 0.7/157.9 MB 23.1 MB/s eta 0:00:07\n",
      "   ---------------------------------------- 1.8/157.9 MB 18.5 MB/s eta 0:00:09\n",
      "    --------------------------------------- 3.1/157.9 MB 22.2 MB/s eta 0:00:07\n",
      "    --------------------------------------- 3.1/157.9 MB 22.2 MB/s eta 0:00:07\n",
      "    --------------------------------------- 3.1/157.9 MB 22.2 MB/s eta 0:00:07\n",
      "    --------------------------------------- 3.1/157.9 MB 22.2 MB/s eta 0:00:07\n",
      "    --------------------------------------- 3.1/157.9 MB 22.2 MB/s eta 0:00:07\n",
      "    --------------------------------------- 3.1/157.9 MB 22.2 MB/s eta 0:00:07\n",
      "    --------------------------------------- 3.1/157.9 MB 22.2 MB/s eta 0:00:07\n",
      "    --------------------------------------- 3.1/157.9 MB 22.2 MB/s eta 0:00:07\n",
      "    --------------------------------------- 3.1/157.9 MB 22.2 MB/s eta 0:00:07\n",
      "    --------------------------------------- 3.1/157.9 MB 22.2 MB/s eta 0:00:07\n",
      "   - -------------------------------------- 4.1/157.9 MB 6.7 MB/s eta 0:00:23\n",
      "   - -------------------------------------- 5.3/157.9 MB 8.1 MB/s eta 0:00:19\n",
      "   - -------------------------------------- 6.3/157.9 MB 8.9 MB/s eta 0:00:17\n",
      "   - -------------------------------------- 7.3/157.9 MB 9.8 MB/s eta 0:00:16\n",
      "   -- ------------------------------------- 8.8/157.9 MB 11.1 MB/s eta 0:00:14\n",
      "   -- ------------------------------------- 10.3/157.9 MB 12.1 MB/s eta 0:00:13\n",
      "   -- ------------------------------------- 11.7/157.9 MB 12.6 MB/s eta 0:00:12\n",
      "   --- ------------------------------------ 13.5/157.9 MB 29.7 MB/s eta 0:00:05\n",
      "   --- ------------------------------------ 14.9/157.9 MB 28.5 MB/s eta 0:00:06\n",
      "   ---- ----------------------------------- 16.9/157.9 MB 34.4 MB/s eta 0:00:05\n",
      "   ---- ----------------------------------- 18.7/157.9 MB 34.4 MB/s eta 0:00:05\n",
      "   ----- ---------------------------------- 20.3/157.9 MB 36.4 MB/s eta 0:00:04\n",
      "   ----- ---------------------------------- 21.8/157.9 MB 34.4 MB/s eta 0:00:04\n",
      "   ----- ---------------------------------- 23.2/157.9 MB 34.4 MB/s eta 0:00:04\n",
      "   ------ --------------------------------- 25.0/157.9 MB 36.3 MB/s eta 0:00:04\n",
      "   ------ --------------------------------- 26.4/157.9 MB 34.4 MB/s eta 0:00:04\n",
      "   ------ --------------------------------- 27.3/157.9 MB 34.4 MB/s eta 0:00:04\n",
      "   ------- -------------------------------- 29.0/157.9 MB 31.2 MB/s eta 0:00:05\n",
      "   ------- -------------------------------- 30.4/157.9 MB 31.2 MB/s eta 0:00:05\n",
      "   -------- ------------------------------- 32.3/157.9 MB 31.2 MB/s eta 0:00:05\n",
      "   -------- ------------------------------- 34.2/157.9 MB 32.7 MB/s eta 0:00:04\n",
      "   --------- ------------------------------ 35.9/157.9 MB 32.7 MB/s eta 0:00:04\n",
      "   --------- ------------------------------ 37.9/157.9 MB 38.5 MB/s eta 0:00:04\n",
      "   ---------- ----------------------------- 39.8/157.9 MB 40.9 MB/s eta 0:00:03\n",
      "   ---------- ----------------------------- 41.5/157.9 MB 38.6 MB/s eta 0:00:04\n",
      "   ---------- ----------------------------- 43.3/157.9 MB 40.9 MB/s eta 0:00:03\n",
      "   ----------- ---------------------------- 45.0/157.9 MB 38.6 MB/s eta 0:00:03\n",
      "   ----------- ---------------------------- 46.6/157.9 MB 36.4 MB/s eta 0:00:04\n",
      "   ------------ --------------------------- 48.4/157.9 MB 36.4 MB/s eta 0:00:04\n",
      "   ------------ --------------------------- 50.4/157.9 MB 36.4 MB/s eta 0:00:03\n",
      "   ------------ --------------------------- 51.1/157.9 MB 36.4 MB/s eta 0:00:03\n",
      "   ------------- -------------------------- 53.3/157.9 MB 34.4 MB/s eta 0:00:04\n",
      "   ------------- -------------------------- 55.0/157.9 MB 36.4 MB/s eta 0:00:03\n",
      "   -------------- ------------------------- 56.3/157.9 MB 34.4 MB/s eta 0:00:03\n",
      "   -------------- ------------------------- 58.3/157.9 MB 34.4 MB/s eta 0:00:03\n",
      "   --------------- ------------------------ 60.3/157.9 MB 34.4 MB/s eta 0:00:03\n",
      "   --------------- ------------------------ 62.3/157.9 MB 36.4 MB/s eta 0:00:03\n",
      "   ---------------- ----------------------- 64.1/157.9 MB 38.5 MB/s eta 0:00:03\n",
      "   ---------------- ----------------------- 65.6/157.9 MB 36.3 MB/s eta 0:00:03\n",
      "   ---------------- ----------------------- 66.8/157.9 MB 36.3 MB/s eta 0:00:03\n",
      "   ----------------- ---------------------- 68.5/157.9 MB 36.4 MB/s eta 0:00:03\n",
      "   ----------------- ---------------------- 70.3/157.9 MB 36.4 MB/s eta 0:00:03\n",
      "   ------------------ --------------------- 72.3/157.9 MB 34.4 MB/s eta 0:00:03\n",
      "   ------------------ --------------------- 74.3/157.9 MB 36.4 MB/s eta 0:00:03\n",
      "   ------------------- -------------------- 76.0/157.9 MB 36.4 MB/s eta 0:00:03\n",
      "   ------------------- -------------------- 77.8/157.9 MB 38.5 MB/s eta 0:00:03\n",
      "   -------------------- ------------------- 79.5/157.9 MB 38.5 MB/s eta 0:00:03\n",
      "   -------------------- ------------------- 81.3/157.9 MB 40.9 MB/s eta 0:00:02\n",
      "   -------------------- ------------------- 82.0/157.9 MB 34.6 MB/s eta 0:00:03\n",
      "   --------------------- ------------------ 83.9/157.9 MB 34.4 MB/s eta 0:00:03\n",
      "   --------------------- ------------------ 85.4/157.9 MB 32.8 MB/s eta 0:00:03\n",
      "   ---------------------- ----------------- 87.2/157.9 MB 34.6 MB/s eta 0:00:03\n",
      "   ---------------------- ----------------- 88.8/157.9 MB 32.7 MB/s eta 0:00:03\n",
      "   ---------------------- ----------------- 90.3/157.9 MB 31.2 MB/s eta 0:00:03\n",
      "   ----------------------- ---------------- 92.2/157.9 MB 36.3 MB/s eta 0:00:02\n",
      "   ----------------------- ---------------- 94.2/157.9 MB 36.3 MB/s eta 0:00:02\n",
      "   ------------------------ --------------- 96.2/157.9 MB 38.6 MB/s eta 0:00:02\n",
      "   ------------------------ --------------- 98.0/157.9 MB 38.6 MB/s eta 0:00:02\n",
      "   ------------------------- -------------- 99.7/157.9 MB 38.6 MB/s eta 0:00:02\n",
      "   ------------------------- ------------- 101.6/157.9 MB 38.5 MB/s eta 0:00:02\n",
      "   ------------------------- ------------- 103.4/157.9 MB 38.5 MB/s eta 0:00:02\n",
      "   ------------------------- ------------- 104.8/157.9 MB 36.4 MB/s eta 0:00:02\n",
      "   -------------------------- ------------ 106.6/157.9 MB 36.3 MB/s eta 0:00:02\n",
      "   -------------------------- ------------ 106.9/157.9 MB 38.5 MB/s eta 0:00:02\n",
      "   -------------------------- ------------ 106.9/157.9 MB 38.5 MB/s eta 0:00:02\n",
      "   -------------------------- ------------ 106.9/157.9 MB 38.5 MB/s eta 0:00:02\n",
      "   -------------------------- ------------ 106.9/157.9 MB 38.5 MB/s eta 0:00:02\n",
      "   -------------------------- ------------ 106.9/157.9 MB 38.5 MB/s eta 0:00:02\n",
      "   -------------------------- ------------ 107.2/157.9 MB 18.7 MB/s eta 0:00:03\n",
      "   -------------------------- ------------ 109.1/157.9 MB 18.7 MB/s eta 0:00:03\n",
      "   --------------------------- ----------- 109.7/157.9 MB 18.7 MB/s eta 0:00:03\n",
      "   --------------------------- ----------- 109.7/157.9 MB 18.7 MB/s eta 0:00:03\n",
      "   --------------------------- ----------- 109.8/157.9 MB 16.8 MB/s eta 0:00:03\n",
      "   --------------------------- ----------- 110.0/157.9 MB 15.2 MB/s eta 0:00:04\n",
      "   ---------------------------- ---------- 114.0/157.9 MB 16.0 MB/s eta 0:00:03\n",
      "   ---------------------------- ---------- 115.9/157.9 MB 16.4 MB/s eta 0:00:03\n",
      "   ---------------------------- ---------- 115.9/157.9 MB 16.4 MB/s eta 0:00:03\n",
      "   ----------------------------- --------- 118.1/157.9 MB 26.2 MB/s eta 0:00:02\n",
      "   ----------------------------- --------- 120.2/157.9 MB 38.5 MB/s eta 0:00:01\n",
      "   ----------------------------- --------- 120.5/157.9 MB 46.7 MB/s eta 0:00:01\n",
      "   ----------------------------- --------- 120.8/157.9 MB 36.4 MB/s eta 0:00:02\n",
      "   ----------------------------- --------- 120.8/157.9 MB 36.4 MB/s eta 0:00:02\n",
      "   ------------------------------ -------- 121.5/157.9 MB 26.2 MB/s eta 0:00:02\n",
      "   ------------------------------ -------- 121.5/157.9 MB 26.2 MB/s eta 0:00:02\n",
      "   ------------------------------ -------- 121.9/157.9 MB 21.1 MB/s eta 0:00:02\n",
      "   ------------------------------ -------- 121.9/157.9 MB 21.1 MB/s eta 0:00:02\n",
      "   ------------------------------ -------- 122.4/157.9 MB 17.7 MB/s eta 0:00:03\n",
      "   ------------------------------ -------- 122.4/157.9 MB 17.7 MB/s eta 0:00:03\n",
      "   ------------------------------ -------- 122.6/157.9 MB 14.9 MB/s eta 0:00:03\n",
      "   ------------------------------ -------- 122.6/157.9 MB 14.9 MB/s eta 0:00:03\n",
      "   ------------------------------ -------- 122.6/157.9 MB 14.9 MB/s eta 0:00:03\n",
      "   ------------------------------ -------- 122.6/157.9 MB 14.9 MB/s eta 0:00:03\n",
      "   ------------------------------ -------- 122.9/157.9 MB 12.1 MB/s eta 0:00:03\n",
      "   ------------------------------ -------- 122.9/157.9 MB 12.1 MB/s eta 0:00:03\n",
      "   ------------------------------ -------- 122.9/157.9 MB 12.1 MB/s eta 0:00:03\n",
      "   ------------------------------ -------- 122.9/157.9 MB 12.1 MB/s eta 0:00:03\n",
      "   ------------------------------ -------- 122.9/157.9 MB 10.1 MB/s eta 0:00:04\n",
      "   ------------------------------ -------- 122.9/157.9 MB 10.1 MB/s eta 0:00:04\n",
      "   ------------------------------ -------- 122.9/157.9 MB 10.1 MB/s eta 0:00:04\n",
      "   ------------------------------ -------- 122.9/157.9 MB 10.1 MB/s eta 0:00:04\n",
      "   ------------------------------- -------- 123.1/157.9 MB 8.5 MB/s eta 0:00:05\n",
      "   ------------------------------- -------- 123.1/157.9 MB 8.5 MB/s eta 0:00:05\n",
      "   ------------------------------- -------- 123.1/157.9 MB 8.5 MB/s eta 0:00:05\n",
      "   ------------------------------- -------- 123.1/157.9 MB 8.5 MB/s eta 0:00:05\n",
      "   ------------------------------- -------- 123.9/157.9 MB 7.3 MB/s eta 0:00:05\n",
      "   ------------------------------- -------- 123.9/157.9 MB 7.3 MB/s eta 0:00:05\n",
      "   ------------------------------- -------- 123.9/157.9 MB 7.3 MB/s eta 0:00:05\n",
      "   ------------------------------- -------- 124.8/157.9 MB 6.7 MB/s eta 0:00:05\n",
      "   ------------------------------- -------- 124.8/157.9 MB 6.7 MB/s eta 0:00:05\n",
      "   ------------------------------- -------- 124.8/157.9 MB 6.7 MB/s eta 0:00:05\n",
      "   ------------------------------- -------- 125.4/157.9 MB 6.2 MB/s eta 0:00:06\n",
      "   ------------------------------- -------- 125.4/157.9 MB 6.2 MB/s eta 0:00:06\n",
      "   ------------------------------- -------- 125.4/157.9 MB 6.2 MB/s eta 0:00:06\n",
      "   ------------------------------- -------- 125.7/157.9 MB 5.8 MB/s eta 0:00:06\n",
      "   ------------------------------- -------- 125.7/157.9 MB 5.8 MB/s eta 0:00:06\n",
      "   ------------------------------- -------- 125.8/157.9 MB 5.5 MB/s eta 0:00:06\n",
      "   ------------------------------- -------- 125.8/157.9 MB 5.5 MB/s eta 0:00:06\n",
      "   ------------------------------- -------- 125.8/157.9 MB 5.5 MB/s eta 0:00:06\n",
      "   ------------------------------- -------- 125.8/157.9 MB 5.5 MB/s eta 0:00:06\n",
      "   ------------------------------- -------- 125.8/157.9 MB 5.5 MB/s eta 0:00:06\n",
      "   ------------------------------- -------- 125.8/157.9 MB 5.5 MB/s eta 0:00:06\n",
      "   ------------------------------- -------- 125.8/157.9 MB 5.5 MB/s eta 0:00:06\n",
      "   ------------------------------- -------- 125.8/157.9 MB 5.5 MB/s eta 0:00:06\n",
      "   ------------------------------- -------- 125.8/157.9 MB 5.5 MB/s eta 0:00:06\n",
      "   ------------------------------- -------- 125.8/157.9 MB 5.5 MB/s eta 0:00:06\n",
      "   ------------------------------- -------- 126.0/157.9 MB 4.4 MB/s eta 0:00:08\n",
      "   ------------------------------- -------- 126.0/157.9 MB 4.4 MB/s eta 0:00:08\n",
      "   ------------------------------- -------- 126.0/157.9 MB 4.4 MB/s eta 0:00:08\n",
      "   ------------------------------- -------- 126.0/157.9 MB 4.4 MB/s eta 0:00:08\n",
      "   ------------------------------- -------- 126.0/157.9 MB 4.4 MB/s eta 0:00:08\n",
      "   -------------------------------- ------- 127.1/157.9 MB 4.1 MB/s eta 0:00:08\n",
      "   -------------------------------- ------- 127.1/157.9 MB 4.1 MB/s eta 0:00:08\n",
      "   -------------------------------- ------- 127.1/157.9 MB 4.1 MB/s eta 0:00:08\n",
      "   -------------------------------- ------- 127.1/157.9 MB 4.1 MB/s eta 0:00:08\n",
      "   -------------------------------- ------- 127.1/157.9 MB 4.1 MB/s eta 0:00:08\n",
      "   -------------------------------- ------- 127.3/157.9 MB 3.8 MB/s eta 0:00:09\n",
      "   -------------------------------- ------- 127.3/157.9 MB 3.8 MB/s eta 0:00:09\n",
      "   -------------------------------- ------- 127.7/157.9 MB 3.6 MB/s eta 0:00:09\n",
      "   -------------------------------- ------- 127.7/157.9 MB 3.6 MB/s eta 0:00:09\n",
      "   -------------------------------- ------- 127.8/157.9 MB 3.5 MB/s eta 0:00:09\n",
      "   -------------------------------- ------- 127.8/157.9 MB 3.5 MB/s eta 0:00:09\n",
      "   -------------------------------- ------- 127.8/157.9 MB 3.5 MB/s eta 0:00:09\n",
      "   -------------------------------- ------- 127.8/157.9 MB 3.5 MB/s eta 0:00:09\n",
      "   -------------------------------- ------- 129.4/157.9 MB 3.3 MB/s eta 0:00:09\n",
      "   -------------------------------- ------- 129.4/157.9 MB 3.3 MB/s eta 0:00:09\n",
      "   -------------------------------- ------- 129.4/157.9 MB 3.3 MB/s eta 0:00:09\n",
      "   -------------------------------- ------- 129.4/157.9 MB 3.3 MB/s eta 0:00:09\n",
      "   -------------------------------- ------- 129.4/157.9 MB 3.3 MB/s eta 0:00:09\n",
      "   -------------------------------- ------- 129.6/157.9 MB 3.1 MB/s eta 0:00:10\n",
      "   -------------------------------- ------- 129.6/157.9 MB 3.1 MB/s eta 0:00:10\n",
      "   -------------------------------- ------- 129.8/157.9 MB 3.0 MB/s eta 0:00:10\n",
      "   -------------------------------- ------- 129.8/157.9 MB 3.0 MB/s eta 0:00:10\n",
      "   --------------------------------- ------ 132.6/157.9 MB 3.3 MB/s eta 0:00:08\n",
      "   --------------------------------- ------ 133.0/157.9 MB 3.6 MB/s eta 0:00:07\n",
      "   --------------------------------- ------ 133.0/157.9 MB 3.6 MB/s eta 0:00:07\n",
      "   ---------------------------------- ----- 134.3/157.9 MB 4.6 MB/s eta 0:00:06\n",
      "   ---------------------------------- ----- 134.3/157.9 MB 4.6 MB/s eta 0:00:06\n",
      "   ---------------------------------- ----- 135.0/157.9 MB 4.4 MB/s eta 0:00:06\n",
      "   ---------------------------------- ----- 135.0/157.9 MB 4.4 MB/s eta 0:00:06\n",
      "   ---------------------------------- ----- 135.0/157.9 MB 4.4 MB/s eta 0:00:06\n",
      "   ---------------------------------- ----- 135.0/157.9 MB 4.4 MB/s eta 0:00:06\n",
      "   ---------------------------------- ----- 135.4/157.9 MB 4.3 MB/s eta 0:00:06\n",
      "   ---------------------------------- ----- 135.4/157.9 MB 4.3 MB/s eta 0:00:06\n",
      "   ---------------------------------- ----- 135.4/157.9 MB 4.3 MB/s eta 0:00:06\n",
      "   ---------------------------------- ----- 136.2/157.9 MB 5.6 MB/s eta 0:00:04\n",
      "   ---------------------------------- ----- 136.2/157.9 MB 5.6 MB/s eta 0:00:04\n",
      "   ---------------------------------- ----- 136.2/157.9 MB 5.6 MB/s eta 0:00:04\n",
      "   ---------------------------------- ----- 136.2/157.9 MB 5.6 MB/s eta 0:00:04\n",
      "   ---------------------------------- ----- 136.3/157.9 MB 5.7 MB/s eta 0:00:04\n",
      "   ---------------------------------- ----- 136.3/157.9 MB 5.7 MB/s eta 0:00:04\n",
      "   ---------------------------------- ----- 136.3/157.9 MB 5.7 MB/s eta 0:00:04\n",
      "   ---------------------------------- ----- 136.8/157.9 MB 5.2 MB/s eta 0:00:05\n",
      "   ---------------------------------- ----- 136.8/157.9 MB 5.2 MB/s eta 0:00:05\n",
      "   ---------------------------------- ----- 136.8/157.9 MB 5.2 MB/s eta 0:00:05\n",
      "   ---------------------------------- ----- 136.8/157.9 MB 5.2 MB/s eta 0:00:05\n",
      "   ---------------------------------- ----- 136.8/157.9 MB 5.2 MB/s eta 0:00:05\n",
      "   ---------------------------------- ----- 136.8/157.9 MB 5.2 MB/s eta 0:00:05\n",
      "   ---------------------------------- ----- 136.8/157.9 MB 4.5 MB/s eta 0:00:05\n",
      "   ---------------------------------- ----- 136.8/157.9 MB 4.5 MB/s eta 0:00:05\n",
      "   ---------------------------------- ----- 136.8/157.9 MB 4.5 MB/s eta 0:00:05\n",
      "   ---------------------------------- ----- 136.8/157.9 MB 4.5 MB/s eta 0:00:05\n",
      "   ---------------------------------- ----- 136.8/157.9 MB 4.5 MB/s eta 0:00:05\n",
      "   ---------------------------------- ----- 136.8/157.9 MB 4.5 MB/s eta 0:00:05\n",
      "   ---------------------------------- ----- 136.8/157.9 MB 4.5 MB/s eta 0:00:05\n",
      "   ---------------------------------- ----- 136.8/157.9 MB 4.5 MB/s eta 0:00:05\n",
      "   ---------------------------------- ----- 136.8/157.9 MB 4.5 MB/s eta 0:00:05\n",
      "   ---------------------------------- ----- 136.8/157.9 MB 4.5 MB/s eta 0:00:05\n",
      "   ---------------------------------- ----- 136.8/157.9 MB 4.5 MB/s eta 0:00:05\n",
      "   ---------------------------------- ----- 136.8/157.9 MB 4.5 MB/s eta 0:00:05\n",
      "   ---------------------------------- ----- 136.8/157.9 MB 4.5 MB/s eta 0:00:05\n",
      "   ---------------------------------- ----- 136.8/157.9 MB 4.5 MB/s eta 0:00:05\n",
      "   ---------------------------------- ----- 136.8/157.9 MB 4.5 MB/s eta 0:00:05\n",
      "   ---------------------------------- ----- 136.8/157.9 MB 4.5 MB/s eta 0:00:05\n",
      "   ---------------------------------- ----- 136.8/157.9 MB 4.5 MB/s eta 0:00:05\n",
      "   ---------------------------------- ----- 136.8/157.9 MB 4.5 MB/s eta 0:00:05\n",
      "   ---------------------------------- ----- 136.8/157.9 MB 4.5 MB/s eta 0:00:05\n",
      "   ---------------------------------- ----- 136.8/157.9 MB 4.5 MB/s eta 0:00:05\n",
      "   ---------------------------------- ----- 136.8/157.9 MB 4.5 MB/s eta 0:00:05\n",
      "   ---------------------------------- ----- 136.8/157.9 MB 4.5 MB/s eta 0:00:05\n",
      "   ---------------------------------- ----- 136.8/157.9 MB 4.5 MB/s eta 0:00:05\n",
      "   ---------------------------------- ----- 136.8/157.9 MB 4.5 MB/s eta 0:00:05\n",
      "   ---------------------------------- ----- 136.8/157.9 MB 4.5 MB/s eta 0:00:05\n",
      "   ---------------------------------- ----- 137.0/157.9 MB 3.0 MB/s eta 0:00:08\n",
      "   ----------------------------------- ---- 140.4/157.9 MB 4.2 MB/s eta 0:00:05\n",
      "   ------------------------------------ --- 142.3/157.9 MB 4.1 MB/s eta 0:00:04\n",
      "   ------------------------------------ --- 143.9/157.9 MB 4.3 MB/s eta 0:00:04\n",
      "   ------------------------------------ --- 145.3/157.9 MB 4.7 MB/s eta 0:00:03\n",
      "   ------------------------------------ -- 147.1/157.9 MB 43.5 MB/s eta 0:00:01\n",
      "   ------------------------------------ -- 148.6/157.9 MB 38.5 MB/s eta 0:00:01\n",
      "   ------------------------------------- - 150.6/157.9 MB 36.3 MB/s eta 0:00:01\n",
      "   ------------------------------------- - 151.8/157.9 MB 34.6 MB/s eta 0:00:01\n",
      "   ------------------------------------- - 153.3/157.9 MB 36.3 MB/s eta 0:00:01\n",
      "   --------------------------------------  155.1/157.9 MB 32.8 MB/s eta 0:00:01\n",
      "   --------------------------------------  156.5/157.9 MB 32.8 MB/s eta 0:00:01\n",
      "   --------------------------------------  157.9/157.9 MB 32.7 MB/s eta 0:00:01\n",
      "   --------------------------------------  157.9/157.9 MB 32.7 MB/s eta 0:00:01\n",
      "   --------------------------------------  157.9/157.9 MB 32.7 MB/s eta 0:00:01\n",
      "   --------------------------------------  157.9/157.9 MB 32.7 MB/s eta 0:00:01\n",
      "   --------------------------------------  157.9/157.9 MB 32.7 MB/s eta 0:00:01\n",
      "   --------------------------------------  157.9/157.9 MB 32.7 MB/s eta 0:00:01\n",
      "   --------------------------------------  157.9/157.9 MB 32.7 MB/s eta 0:00:01\n",
      "   --------------------------------------  157.9/157.9 MB 32.7 MB/s eta 0:00:01\n",
      "   --------------------------------------  157.9/157.9 MB 32.7 MB/s eta 0:00:01\n",
      "   --------------------------------------  157.9/157.9 MB 32.7 MB/s eta 0:00:01\n",
      "   --------------------------------------  157.9/157.9 MB 32.7 MB/s eta 0:00:01\n",
      "   --------------------------------------  157.9/157.9 MB 32.7 MB/s eta 0:00:01\n",
      "   --------------------------------------  157.9/157.9 MB 32.7 MB/s eta 0:00:01\n",
      "   --------------------------------------- 157.9/157.9 MB 11.1 MB/s eta 0:00:00\n",
      "Downloading torchvision-0.12.0-cp39-cp39-win_amd64.whl (1.0 MB)\n",
      "   ---------------------------------------- 0.0/1.0 MB ? eta -:--:--\n",
      "   ---------------------------------------- 1.0/1.0 MB 32.5 MB/s eta 0:00:00\n",
      "Downloading pycocotools-2.0.7-cp39-cp39-win_amd64.whl (85 kB)\n",
      "   ---------------------------------------- 0.0/85.1 kB ? eta -:--:--\n",
      "   ---------------------------------------- 85.1/85.1 kB 4.7 MB/s eta 0:00:00\n",
      "Downloading fastcore-1.4.5-py3-none-any.whl (61 kB)\n",
      "   ---------------------------------------- 0.0/61.3 kB ? eta -:--:--\n",
      "   ---------------------------------------- 61.3/61.3 kB 3.4 MB/s eta 0:00:00\n",
      "Building wheels for collected packages: fastai-object-detection, mean_average_precision\n",
      "  Building wheel for fastai-object-detection (setup.py): started\n",
      "  Building wheel for fastai-object-detection (setup.py): finished with status 'done'\n",
      "  Created wheel for fastai-object-detection: filename=fastai_object_detection-0.0.1-py3-none-any.whl size=51811 sha256=390530cd7b91f9b6feef3ff267bf69259d8df3b5e3bc9d5cf4c26e421f283a0e\n",
      "  Stored in directory: C:\\Users\\amart\\AppData\\Local\\Temp\\pip-ephem-wheel-cache-hu250dwk\\wheels\\bd\\4d\\61\\89af58bb7570e9b1ef88d9dde747c789a6ecfe82af65f524d4\n",
      "  Building wheel for mean_average_precision (setup.py): started\n",
      "  Building wheel for mean_average_precision (setup.py): finished with status 'done'\n",
      "  Created wheel for mean_average_precision: filename=mean_average_precision-2024.1.5.0-py3-none-any.whl size=14436 sha256=38417512aed5f446ac1d72663a7617d608260ab2ccb545ab9adc3b4ce5d76a42\n",
      "  Stored in directory: C:\\Users\\amart\\AppData\\Local\\Temp\\pip-ephem-wheel-cache-hu250dwk\\wheels\\a6\\04\\58\\0da1bd27523df9c28ef31e5265c416469ea6c4ee480b94f11f\n",
      "Successfully built fastai-object-detection mean_average_precision\n",
      "Installing collected packages: torch, fastcore, torchvision, pycocotools, mean_average_precision, fastai, fastai-object-detection\n",
      "  Attempting uninstall: torch\n",
      "    Found existing installation: torch 2.2.1\n",
      "    Uninstalling torch-2.2.1:\n",
      "      Successfully uninstalled torch-2.2.1\n",
      "  Attempting uninstall: fastcore\n",
      "    Found existing installation: fastcore 1.5.29\n",
      "    Uninstalling fastcore-1.5.29:\n",
      "      Successfully uninstalled fastcore-1.5.29\n",
      "  Attempting uninstall: torchvision\n",
      "    Found existing installation: torchvision 0.17.1\n",
      "    Uninstalling torchvision-0.17.1:\n",
      "      Successfully uninstalled torchvision-0.17.1\n",
      "  Attempting uninstall: fastai\n",
      "    Found existing installation: fastai 2.7.14\n",
      "    Uninstalling fastai-2.7.14:\n",
      "      Successfully uninstalled fastai-2.7.14\n",
      "Successfully installed fastai-2.6.3 fastai-object-detection-0.0.1 fastcore-1.4.5 mean_average_precision-2024.1.5.0 pycocotools-2.0.7 torch-1.11.0 torchvision-0.12.0\n",
      "Note: you may need to restart the kernel to use updated packages.\n"
     ]
    },
    {
     "name": "stderr",
     "output_type": "stream",
     "text": [
      "  Running command git clone --filter=blob:none --quiet https://github.com/rbrtwlz/fastai_object_detection 'C:\\Users\\amart\\AppData\\Local\\Temp\\pip-req-build-me6fh1qd'\n",
      "  Running command git clone --filter=blob:none --quiet https://github.com/bes-dev/mean_average_precision 'C:\\Users\\amart\\AppData\\Local\\Temp\\pip-install-b93d_zxo\\mean-average-precision_2898f562abb54be3b27cf69c3873287a'\n",
      "  WARNING: Failed to remove contents in a temporary directory 'C:\\Users\\amart\\AppData\\Local\\Programs\\Python\\Python39\\Lib\\site-packages\\~~rch'.\n",
      "  You can safely remove it manually.\n",
      "  WARNING: Failed to remove contents in a temporary directory 'C:\\Users\\amart\\AppData\\Local\\Programs\\Python\\Python39\\Lib\\site-packages\\~-rchvision'.\n",
      "  You can safely remove it manually.\n",
      "\n",
      "[notice] A new release of pip is available: 23.3.2 -> 24.0\n",
      "[notice] To update, run: python.exe -m pip install --upgrade pip\n"
     ]
    }
   ],
   "source": [
    "pip install --upgrade git+https://github.com/rbrtwlz/fastai_object_detection"
   ]
  },
  {
   "cell_type": "code",
   "execution_count": 4,
   "metadata": {
    "colab": {
     "base_uri": "https://localhost:8080/",
     "height": 1000
    },
    "id": "LAzRrEKAD59F",
    "outputId": "4babf71f-ad2e-41bf-fa6a-3677dc17e02c"
   },
   "outputs": [
    {
     "name": "stdout",
     "output_type": "stream",
     "text": [
      "Dataset coco-cats-and-dogs already exists: C:\\Users\\amart\\.fastai\\data\\coco-cats-and-dogs\n"
     ]
    }
   ],
   "source": [
    "from fastai_object_detection.all import *\n",
    "\n",
    "path, df = CocoData.create(ds_name=\"coco-cats-and-dogs\", cat_list=[\"cat\", \"dog\"],\n",
    "                           max_images=2000, with_mask=False)"
   ]
  },
  {
   "cell_type": "code",
   "execution_count": 5,
   "metadata": {
    "colab": {
     "base_uri": "https://localhost:8080/",
     "height": 248
    },
    "id": "cT-FYJKGD_7t",
    "outputId": "da5adfae-5eaa-4f43-909c-0c56c9c4e717"
   },
   "outputs": [
    {
     "name": "stdout",
     "output_type": "stream",
     "text": [
      "Due to IPython and Windows limitation, python multiprocessing isn't available now.\n",
      "So `number_workers` is changed to 0 to avoid getting stuck\n"
     ]
    },
    {
     "data": {
      "image/png": "[encoded data removed]",
      "text/plain": [
       "<Figure size 600x300 with 2 Axes>"
      ]
     },
     "metadata": {},
     "output_type": "display_data"
    }
   ],
   "source": [
    "dls = ObjectDetectionDataLoaders.from_df(df, bs=2,\n",
    "                                         item_tfms=[Resize(800, method=\"pad\", pad_mode=\"zeros\")],\n",
    "                                         batch_tfms=[Normalize.from_stats(*imagenet_stats)])\n",
    "dls.show_batch()"
   ]
  },
  {
   "cell_type": "code",
   "execution_count": 6,
   "metadata": {
    "colab": {
     "base_uri": "https://localhost:8080/",
     "height": 136,
     "referenced_widgets": [
      "9360dfa45f634e96aa71cf68aa8675be",
      "fbfef0a188c14488834d69678968a618",
      "f3efdfd66fc94ab4a8048c78e007542c",
      "b4964e228105443aa1bb0e5729ea9db8",
      "84ad65b3bad3494e93e0909a5f3751cc",
      "babbd066cd3e4763af297246b4274175",
      "951da127838f413e84046b200f3b676b",
      "142b015fddb24053a751cd2fb8d9aad8",
      "4aa9bf310b364995af3fd3e11ea1a64a",
      "c6500fc02e644c5db555c44dacf214fb",
      "ead35c878a38404bad877aff549da350",
      "de3abcf3da2745fd9df98ca24db93e2a",
      "dfed46eae4624cffb1408952e733dc40",
      "b20950a7322c4232b9606a1e6a3467a6",
      "114fa6818d174d318f47cf0179ecc76d",
      "dd865ebd2a6542e2b5ad363fd3d25516",
      "e92b07024cf44114949555d7f38dac02",
      "0a5ed9b38ddc48d18d8b1219c5549860",
      "fe6b76372e4d4020a81ff065d0729a6c",
      "ccd50557253b48e3bce53be8ee21a707",
      "c7cf1079ce51465da1d5269c0b69788e",
      "8870a00e70bf4a91a156a535990db2f0"
     ]
    },
    "id": "GCPUG_UtEJ0I",
    "outputId": "1088f980-9d77-40c7-8fe2-6de37f96ad9c"
   },
   "outputs": [],
   "source": [
    "learn = fasterrcnn_learner(dls, fasterrcnn_resnet50,\n",
    "                           opt_func=SGD, lr=0.005, wd=0.0005, train_bn=False,\n",
    "                           metrics=[mAP_at_IoU40, mAP_at_IoU60])\n",
    "learn.freeze()"
   ]
  },
  {
   "cell_type": "code",
   "execution_count": 12,
   "metadata": {
    "id": "Tg15GmeDPZgc"
   },
   "outputs": [
    {
     "data": {
      "text/html": [
       "\n",
       "<style>\n",
       "    /* Turns off some styling */\n",
       "    progress {\n",
       "        /* gets rid of default border in Firefox and Opera. */\n",
       "        border: none;\n",
       "        /* Needs to be in here for Safari polyfill so background images work as expected. */\n",
       "        background-size: auto;\n",
       "    }\n",
       "    progress:not([value]), progress:not([value])::-webkit-progress-bar {\n",
       "        background: repeating-linear-gradient(45deg, #7e7e7e, #7e7e7e 10px, #5c5c5c 10px, #5c5c5c 20px);\n",
       "    }\n",
       "    .progress-bar-interrupted, .progress-bar-interrupted::-webkit-progress-bar {\n",
       "        background: #F44336;\n",
       "    }\n",
       "</style>\n"
      ],
      "text/plain": [
       "<IPython.core.display.HTML object>"
      ]
     },
     "metadata": {},
     "output_type": "display_data"
    },
    {
     "data": {
      "text/html": [],
      "text/plain": [
       "<IPython.core.display.HTML object>"
      ]
     },
     "metadata": {},
     "output_type": "display_data"
    },
    {
     "name": "stderr",
     "output_type": "stream",
     "text": [
      "C:\\Users\\amart\\AppData\\Local\\Programs\\Python\\Python39\\lib\\site-packages\\fastai_object_detection\\callbacks.py:64: UserWarning: To copy construct from a tensor, it is recommended to use sourceTensor.clone().detach() or sourceTensor.clone().detach().requires_grad_(True), rather than torch.tensor(sourceTensor).\n",
      "  x1 = torch.tensor(x1)\n",
      "C:\\Users\\amart\\AppData\\Local\\Programs\\Python\\Python39\\lib\\site-packages\\fastai_object_detection\\callbacks.py:69: UserWarning: To copy construct from a tensor, it is recommended to use sourceTensor.clone().detach() or sourceTensor.clone().detach().requires_grad_(True), rather than torch.tensor(sourceTensor).\n",
      "  y[k] = [torch.tensor(e) for e in yb[i]]\n"
     ]
    },
    {
     "data": {
      "text/plain": [
       "SuggestedLRs(valley=0.0063095735386013985)"
      ]
     },
     "execution_count": 12,
     "metadata": {},
     "output_type": "execute_result"
    },
    {
     "data": {
      "image/png": "[encoded data removed]",
      "text/plain": [
       "<Figure size 640x480 with 1 Axes>"
      ]
     },
     "metadata": {},
     "output_type": "display_data"
    }
   ],
   "source": [
    "learn.lr_find()"
   ]
  },
  {
   "cell_type": "code",
   "execution_count": 13,
   "metadata": {
    "colab": {
     "base_uri": "https://localhost:8080/",
     "height": 95
    },
    "id": "zeuVeEnJPZj3",
    "outputId": "56c8d07b-4780-4e2f-c240-f24969e9058b"
   },
   "outputs": [
    {
     "data": {
      "text/html": [
       "\n",
       "<style>\n",
       "    /* Turns off some styling */\n",
       "    progress {\n",
       "        /* gets rid of default border in Firefox and Opera. */\n",
       "        border: none;\n",
       "        /* Needs to be in here for Safari polyfill so background images work as expected. */\n",
       "        background-size: auto;\n",
       "    }\n",
       "    progress:not([value]), progress:not([value])::-webkit-progress-bar {\n",
       "        background: repeating-linear-gradient(45deg, #7e7e7e, #7e7e7e 10px, #5c5c5c 10px, #5c5c5c 20px);\n",
       "    }\n",
       "    .progress-bar-interrupted, .progress-bar-interrupted::-webkit-progress-bar {\n",
       "        background: #F44336;\n",
       "    }\n",
       "</style>\n"
      ],
      "text/plain": [
       "<IPython.core.display.HTML object>"
      ]
     },
     "metadata": {},
     "output_type": "display_data"
    },
    {
     "data": {
      "text/html": [
       "<table border=\"1\" class=\"dataframe\">\n",
       "  <thead>\n",
       "    <tr style=\"text-align: left;\">\n",
       "      <th>epoch</th>\n",
       "      <th>train_loss</th>\n",
       "      <th>valid_loss</th>\n",
       "      <th>mAP@IoU>0.4</th>\n",
       "      <th>mAP@IoU>0.6</th>\n",
       "      <th>time</th>\n",
       "    </tr>\n",
       "  </thead>\n",
       "  <tbody>\n",
       "    <tr>\n",
       "      <td>0</td>\n",
       "      <td>0.259129</td>\n",
       "      <td>0.252502</td>\n",
       "      <td>0.124936</td>\n",
       "      <td>0.027631</td>\n",
       "      <td>3:50:11</td>\n",
       "    </tr>\n",
       "  </tbody>\n",
       "</table>"
      ],
      "text/plain": [
       "<IPython.core.display.HTML object>"
      ]
     },
     "metadata": {},
     "output_type": "display_data"
    }
   ],
   "source": [
    "learn.fit_one_cycle(1, 1.2e-03)"
   ]
  },
  {
   "cell_type": "code",
   "execution_count": 7,
   "metadata": {
    "id": "XqtQNot7Ef5w"
   },
   "outputs": [],
   "source": [
    "learn.unfreeze()"
   ]
  },
  {
   "cell_type": "code",
   "execution_count": 15,
   "metadata": {
    "id": "TaHiWANFEjAo"
   },
   "outputs": [
    {
     "data": {
      "text/html": [
       "\n",
       "<style>\n",
       "    /* Turns off some styling */\n",
       "    progress {\n",
       "        /* gets rid of default border in Firefox and Opera. */\n",
       "        border: none;\n",
       "        /* Needs to be in here for Safari polyfill so background images work as expected. */\n",
       "        background-size: auto;\n",
       "    }\n",
       "    progress:not([value]), progress:not([value])::-webkit-progress-bar {\n",
       "        background: repeating-linear-gradient(45deg, #7e7e7e, #7e7e7e 10px, #5c5c5c 10px, #5c5c5c 20px);\n",
       "    }\n",
       "    .progress-bar-interrupted, .progress-bar-interrupted::-webkit-progress-bar {\n",
       "        background: #F44336;\n",
       "    }\n",
       "</style>\n"
      ],
      "text/plain": [
       "<IPython.core.display.HTML object>"
      ]
     },
     "metadata": {},
     "output_type": "display_data"
    },
    {
     "data": {
      "text/html": [
       "<table border=\"1\" class=\"dataframe\">\n",
       "  <thead>\n",
       "    <tr style=\"text-align: left;\">\n",
       "      <th>epoch</th>\n",
       "      <th>train_loss</th>\n",
       "      <th>valid_loss</th>\n",
       "      <th>mAP@IoU>0.4</th>\n",
       "      <th>mAP@IoU>0.6</th>\n",
       "      <th>time</th>\n",
       "    </tr>\n",
       "  </thead>\n",
       "  <tbody>\n",
       "    <tr>\n",
       "      <td>0</td>\n",
       "      <td>0.222819</td>\n",
       "      <td>0.224355</td>\n",
       "      <td>0.365041</td>\n",
       "      <td>0.185576</td>\n",
       "      <td>7:44:24</td>\n",
       "    </tr>\n",
       "    <tr>\n",
       "      <td>1</td>\n",
       "      <td>0.201988</td>\n",
       "      <td>0.206797</td>\n",
       "      <td>0.479833</td>\n",
       "      <td>0.285770</td>\n",
       "      <td>7:47:26</td>\n",
       "    </tr>\n",
       "    <tr>\n",
       "      <td>2</td>\n",
       "      <td>0.196886</td>\n",
       "      <td>0.208690</td>\n",
       "      <td>0.490611</td>\n",
       "      <td>0.299108</td>\n",
       "      <td>7:47:18</td>\n",
       "    </tr>\n",
       "  </tbody>\n",
       "</table>"
      ],
      "text/plain": [
       "<IPython.core.display.HTML object>"
      ]
     },
     "metadata": {},
     "output_type": "display_data"
    }
   ],
   "source": [
    "learn.fit_one_cycle(3, 1.2e-03)"
   ]
  },
  {
   "cell_type": "code",
   "execution_count": 8,
   "metadata": {},
   "outputs": [
    {
     "data": {
      "text/html": [
       "\n",
       "<style>\n",
       "    /* Turns off some styling */\n",
       "    progress {\n",
       "        /* gets rid of default border in Firefox and Opera. */\n",
       "        border: none;\n",
       "        /* Needs to be in here for Safari polyfill so background images work as expected. */\n",
       "        background-size: auto;\n",
       "    }\n",
       "    progress:not([value]), progress:not([value])::-webkit-progress-bar {\n",
       "        background: repeating-linear-gradient(45deg, #7e7e7e, #7e7e7e 10px, #5c5c5c 10px, #5c5c5c 20px);\n",
       "    }\n",
       "    .progress-bar-interrupted, .progress-bar-interrupted::-webkit-progress-bar {\n",
       "        background: #F44336;\n",
       "    }\n",
       "</style>\n"
      ],
      "text/plain": [
       "<IPython.core.display.HTML object>"
      ]
     },
     "metadata": {},
     "output_type": "display_data"
    },
    {
     "data": {
      "text/html": [],
      "text/plain": [
       "<IPython.core.display.HTML object>"
      ]
     },
     "metadata": {},
     "output_type": "display_data"
    },
    {
     "name": "stderr",
     "output_type": "stream",
     "text": [
      "C:\\Users\\amart\\AppData\\Local\\Programs\\Python\\Python39\\lib\\site-packages\\fastai_object_detection\\callbacks.py:64: UserWarning: To copy construct from a tensor, it is recommended to use sourceTensor.clone().detach() or sourceTensor.clone().detach().requires_grad_(True), rather than torch.tensor(sourceTensor).\n",
      "  x1 = torch.tensor(x1)\n",
      "C:\\Users\\amart\\AppData\\Local\\Programs\\Python\\Python39\\lib\\site-packages\\fastai_object_detection\\callbacks.py:69: UserWarning: To copy construct from a tensor, it is recommended to use sourceTensor.clone().detach() or sourceTensor.clone().detach().requires_grad_(True), rather than torch.tensor(sourceTensor).\n",
      "  y[k] = [torch.tensor(e) for e in yb[i]]\n"
     ]
    },
    {
     "name": "stdout",
     "output_type": "stream",
     "text": [
      "Validation Results: [1.0184072256088257, 0.015267725102603436, 0.002246047370135784]\n"
     ]
    }
   ],
   "source": [
    "# Evaluate the model\n",
    "results = learn.validate()\n",
    "print(\"Validation Results:\", results)\n"
   ]
  },
  {
   "cell_type": "code",
   "execution_count": null,
   "metadata": {},
   "outputs": [],
   "source": []
  }
 ],
 "metadata": {
  "accelerator": "GPU",
  "colab": {
   "gpuType": "T4",
   "machine_shape": "hm",
   "provenance": [],
   "toc_visible": true
  },
  "kernelspec": {
   "display_name": "Python 3 (ipykernel)",
   "language": "python",
   "name": "python3"
  },
  "language_info": {
   "codemirror_mode": {
    "name": "ipython",
    "version": 3
   },
   "file_extension": ".py",
   "mimetype": "text/x-python",
   "name": "python",
   "nbconvert_exporter": "python",
   "pygments_lexer": "ipython3",
   "version": "3.9.13"
  },
  "widgets": {
   "application/vnd.jupyter.widget-state+json": {
    "0a5ed9b38ddc48d18d8b1219c5549860": {
     "model_module": "@jupyter-widgets/controls",
     "model_module_version": "1.5.0",
     "model_name": "DescriptionStyleModel",
     "state": {
      "_model_module": "@jupyter-widgets/controls",
      "_model_module_version": "1.5.0",
      "_model_name": "DescriptionStyleModel",
      "_view_count": null,
      "_view_module": "@jupyter-widgets/base",
      "_view_module_version": "1.2.0",
      "_view_name": "StyleView",
      "description_width": ""
     }
    },
    "114fa6818d174d318f47cf0179ecc76d": {
     "model_module": "@jupyter-widgets/controls",
     "model_module_version": "1.5.0",
     "model_name": "HTMLModel",
     "state": {
      "_dom_classes": [],
      "_model_module": "@jupyter-widgets/controls",
      "_model_module_version": "1.5.0",
      "_model_name": "HTMLModel",
      "_view_count": null,
      "_view_module": "@jupyter-widgets/controls",
      "_view_module_version": "1.5.0",
      "_view_name": "HTMLView",
      "description": "",
      "description_tooltip": null,
      "layout": "IPY_MODEL_c7cf1079ce51465da1d5269c0b69788e",
      "placeholder": "​",
      "style": "IPY_MODEL_8870a00e70bf4a91a156a535990db2f0",
      "value": " 160M/160M [00:02&lt;00:00, 86.0MB/s]"
     }
    },
    "142b015fddb24053a751cd2fb8d9aad8": {
     "model_module": "@jupyter-widgets/base",
     "model_module_version": "1.2.0",
     "model_name": "LayoutModel",
     "state": {
      "_model_module": "@jupyter-widgets/base",
      "_model_module_version": "1.2.0",
      "_model_name": "LayoutModel",
      "_view_count": null,
      "_view_module": "@jupyter-widgets/base",
      "_view_module_version": "1.2.0",
      "_view_name": "LayoutView",
      "align_content": null,
      "align_items": null,
      "align_self": null,
      "border": null,
      "bottom": null,
      "display": null,
      "flex": null,
      "flex_flow": null,
      "grid_area": null,
      "grid_auto_columns": null,
      "grid_auto_flow": null,
      "grid_auto_rows": null,
      "grid_column": null,
      "grid_gap": null,
      "grid_row": null,
      "grid_template_areas": null,
      "grid_template_columns": null,
      "grid_template_rows": null,
      "height": null,
      "justify_content": null,
      "justify_items": null,
      "left": null,
      "margin": null,
      "max_height": null,
      "max_width": null,
      "min_height": null,
      "min_width": null,
      "object_fit": null,
      "object_position": null,
      "order": null,
      "overflow": null,
      "overflow_x": null,
      "overflow_y": null,
      "padding": null,
      "right": null,
      "top": null,
      "visibility": null,
      "width": null
     }
    },
    "4aa9bf310b364995af3fd3e11ea1a64a": {
     "model_module": "@jupyter-widgets/controls",
     "model_module_version": "1.5.0",
     "model_name": "ProgressStyleModel",
     "state": {
      "_model_module": "@jupyter-widgets/controls",
      "_model_module_version": "1.5.0",
      "_model_name": "ProgressStyleModel",
      "_view_count": null,
      "_view_module": "@jupyter-widgets/base",
      "_view_module_version": "1.2.0",
      "_view_name": "StyleView",
      "bar_color": null,
      "description_width": ""
     }
    },
    "84ad65b3bad3494e93e0909a5f3751cc": {
     "model_module": "@jupyter-widgets/base",
     "model_module_version": "1.2.0",
     "model_name": "LayoutModel",
     "state": {
      "_model_module": "@jupyter-widgets/base",
      "_model_module_version": "1.2.0",
      "_model_name": "LayoutModel",
      "_view_count": null,
      "_view_module": "@jupyter-widgets/base",
      "_view_module_version": "1.2.0",
      "_view_name": "LayoutView",
      "align_content": null,
      "align_items": null,
      "align_self": null,
      "border": null,
      "bottom": null,
      "display": null,
      "flex": null,
      "flex_flow": null,
      "grid_area": null,
      "grid_auto_columns": null,
      "grid_auto_flow": null,
      "grid_auto_rows": null,
      "grid_column": null,
      "grid_gap": null,
      "grid_row": null,
      "grid_template_areas": null,
      "grid_template_columns": null,
      "grid_template_rows": null,
      "height": null,
      "justify_content": null,
      "justify_items": null,
      "left": null,
      "margin": null,
      "max_height": null,
      "max_width": null,
      "min_height": null,
      "min_width": null,
      "object_fit": null,
      "object_position": null,
      "order": null,
      "overflow": null,
      "overflow_x": null,
      "overflow_y": null,
      "padding": null,
      "right": null,
      "top": null,
      "visibility": null,
      "width": null
     }
    },
    "8870a00e70bf4a91a156a535990db2f0": {
     "model_module": "@jupyter-widgets/controls",
     "model_module_version": "1.5.0",
     "model_name": "DescriptionStyleModel",
     "state": {
      "_model_module": "@jupyter-widgets/controls",
      "_model_module_version": "1.5.0",
      "_model_name": "DescriptionStyleModel",
      "_view_count": null,
      "_view_module": "@jupyter-widgets/base",
      "_view_module_version": "1.2.0",
      "_view_name": "StyleView",
      "description_width": ""
     }
    },
    "9360dfa45f634e96aa71cf68aa8675be": {
     "model_module": "@jupyter-widgets/controls",
     "model_module_version": "1.5.0",
     "model_name": "HBoxModel",
     "state": {
      "_dom_classes": [],
      "_model_module": "@jupyter-widgets/controls",
      "_model_module_version": "1.5.0",
      "_model_name": "HBoxModel",
      "_view_count": null,
      "_view_module": "@jupyter-widgets/controls",
      "_view_module_version": "1.5.0",
      "_view_name": "HBoxView",
      "box_style": "",
      "children": [
       "IPY_MODEL_fbfef0a188c14488834d69678968a618",
       "IPY_MODEL_f3efdfd66fc94ab4a8048c78e007542c",
       "IPY_MODEL_b4964e228105443aa1bb0e5729ea9db8"
      ],
      "layout": "IPY_MODEL_84ad65b3bad3494e93e0909a5f3751cc"
     }
    },
    "951da127838f413e84046b200f3b676b": {
     "model_module": "@jupyter-widgets/controls",
     "model_module_version": "1.5.0",
     "model_name": "DescriptionStyleModel",
     "state": {
      "_model_module": "@jupyter-widgets/controls",
      "_model_module_version": "1.5.0",
      "_model_name": "DescriptionStyleModel",
      "_view_count": null,
      "_view_module": "@jupyter-widgets/base",
      "_view_module_version": "1.2.0",
      "_view_name": "StyleView",
      "description_width": ""
     }
    },
    "b20950a7322c4232b9606a1e6a3467a6": {
     "model_module": "@jupyter-widgets/controls",
     "model_module_version": "1.5.0",
     "model_name": "FloatProgressModel",
     "state": {
      "_dom_classes": [],
      "_model_module": "@jupyter-widgets/controls",
      "_model_module_version": "1.5.0",
      "_model_name": "FloatProgressModel",
      "_view_count": null,
      "_view_module": "@jupyter-widgets/controls",
      "_view_module_version": "1.5.0",
      "_view_name": "ProgressView",
      "bar_style": "success",
      "description": "",
      "description_tooltip": null,
      "layout": "IPY_MODEL_fe6b76372e4d4020a81ff065d0729a6c",
      "max": 167502836,
      "min": 0,
      "orientation": "horizontal",
      "style": "IPY_MODEL_ccd50557253b48e3bce53be8ee21a707",
      "value": 167502836
     }
    },
    "b4964e228105443aa1bb0e5729ea9db8": {
     "model_module": "@jupyter-widgets/controls",
     "model_module_version": "1.5.0",
     "model_name": "HTMLModel",
     "state": {
      "_dom_classes": [],
      "_model_module": "@jupyter-widgets/controls",
      "_model_module_version": "1.5.0",
      "_model_name": "HTMLModel",
      "_view_count": null,
      "_view_module": "@jupyter-widgets/controls",
      "_view_module_version": "1.5.0",
      "_view_name": "HTMLView",
      "description": "",
      "description_tooltip": null,
      "layout": "IPY_MODEL_c6500fc02e644c5db555c44dacf214fb",
      "placeholder": "​",
      "style": "IPY_MODEL_ead35c878a38404bad877aff549da350",
      "value": " 97.8M/97.8M [00:00&lt;00:00, 142MB/s]"
     }
    },
    "babbd066cd3e4763af297246b4274175": {
     "model_module": "@jupyter-widgets/base",
     "model_module_version": "1.2.0",
     "model_name": "LayoutModel",
     "state": {
      "_model_module": "@jupyter-widgets/base",
      "_model_module_version": "1.2.0",
      "_model_name": "LayoutModel",
      "_view_count": null,
      "_view_module": "@jupyter-widgets/base",
      "_view_module_version": "1.2.0",
      "_view_name": "LayoutView",
      "align_content": null,
      "align_items": null,
      "align_self": null,
      "border": null,
      "bottom": null,
      "display": null,
      "flex": null,
      "flex_flow": null,
      "grid_area": null,
      "grid_auto_columns": null,
      "grid_auto_flow": null,
      "grid_auto_rows": null,
      "grid_column": null,
      "grid_gap": null,
      "grid_row": null,
      "grid_template_areas": null,
      "grid_template_columns": null,
      "grid_template_rows": null,
      "height": null,
      "justify_content": null,
      "justify_items": null,
      "left": null,
      "margin": null,
      "max_height": null,
      "max_width": null,
      "min_height": null,
      "min_width": null,
      "object_fit": null,
      "object_position": null,
      "order": null,
      "overflow": null,
      "overflow_x": null,
      "overflow_y": null,
      "padding": null,
      "right": null,
      "top": null,
      "visibility": null,
      "width": null
     }
    },
    "c6500fc02e644c5db555c44dacf214fb": {
     "model_module": "@jupyter-widgets/base",
     "model_module_version": "1.2.0",
     "model_name": "LayoutModel",
     "state": {
      "_model_module": "@jupyter-widgets/base",
      "_model_module_version": "1.2.0",
      "_model_name": "LayoutModel",
      "_view_count": null,
      "_view_module": "@jupyter-widgets/base",
      "_view_module_version": "1.2.0",
      "_view_name": "LayoutView",
      "align_content": null,
      "align_items": null,
      "align_self": null,
      "border": null,
      "bottom": null,
      "display": null,
      "flex": null,
      "flex_flow": null,
      "grid_area": null,
      "grid_auto_columns": null,
      "grid_auto_flow": null,
      "grid_auto_rows": null,
      "grid_column": null,
      "grid_gap": null,
      "grid_row": null,
      "grid_template_areas": null,
      "grid_template_columns": null,
      "grid_template_rows": null,
      "height": null,
      "justify_content": null,
      "justify_items": null,
      "left": null,
      "margin": null,
      "max_height": null,
      "max_width": null,
      "min_height": null,
      "min_width": null,
      "object_fit": null,
      "object_position": null,
      "order": null,
      "overflow": null,
      "overflow_x": null,
      "overflow_y": null,
      "padding": null,
      "right": null,
      "top": null,
      "visibility": null,
      "width": null
     }
    },
    "c7cf1079ce51465da1d5269c0b69788e": {
     "model_module": "@jupyter-widgets/base",
     "model_module_version": "1.2.0",
     "model_name": "LayoutModel",
     "state": {
      "_model_module": "@jupyter-widgets/base",
      "_model_module_version": "1.2.0",
      "_model_name": "LayoutModel",
      "_view_count": null,
      "_view_module": "@jupyter-widgets/base",
      "_view_module_version": "1.2.0",
      "_view_name": "LayoutView",
      "align_content": null,
      "align_items": null,
      "align_self": null,
      "border": null,
      "bottom": null,
      "display": null,
      "flex": null,
      "flex_flow": null,
      "grid_area": null,
      "grid_auto_columns": null,
      "grid_auto_flow": null,
      "grid_auto_rows": null,
      "grid_column": null,
      "grid_gap": null,
      "grid_row": null,
      "grid_template_areas": null,
      "grid_template_columns": null,
      "grid_template_rows": null,
      "height": null,
      "justify_content": null,
      "justify_items": null,
      "left": null,
      "margin": null,
      "max_height": null,
      "max_width": null,
      "min_height": null,
      "min_width": null,
      "object_fit": null,
      "object_position": null,
      "order": null,
      "overflow": null,
      "overflow_x": null,
      "overflow_y": null,
      "padding": null,
      "right": null,
      "top": null,
      "visibility": null,
      "width": null
     }
    },
    "ccd50557253b48e3bce53be8ee21a707": {
     "model_module": "@jupyter-widgets/controls",
     "model_module_version": "1.5.0",
     "model_name": "ProgressStyleModel",
     "state": {
      "_model_module": "@jupyter-widgets/controls",
      "_model_module_version": "1.5.0",
      "_model_name": "ProgressStyleModel",
      "_view_count": null,
      "_view_module": "@jupyter-widgets/base",
      "_view_module_version": "1.2.0",
      "_view_name": "StyleView",
      "bar_color": null,
      "description_width": ""
     }
    },
    "dd865ebd2a6542e2b5ad363fd3d25516": {
     "model_module": "@jupyter-widgets/base",
     "model_module_version": "1.2.0",
     "model_name": "LayoutModel",
     "state": {
      "_model_module": "@jupyter-widgets/base",
      "_model_module_version": "1.2.0",
      "_model_name": "LayoutModel",
      "_view_count": null,
      "_view_module": "@jupyter-widgets/base",
      "_view_module_version": "1.2.0",
      "_view_name": "LayoutView",
      "align_content": null,
      "align_items": null,
      "align_self": null,
      "border": null,
      "bottom": null,
      "display": null,
      "flex": null,
      "flex_flow": null,
      "grid_area": null,
      "grid_auto_columns": null,
      "grid_auto_flow": null,
      "grid_auto_rows": null,
      "grid_column": null,
      "grid_gap": null,
      "grid_row": null,
      "grid_template_areas": null,
      "grid_template_columns": null,
      "grid_template_rows": null,
      "height": null,
      "justify_content": null,
      "justify_items": null,
      "left": null,
      "margin": null,
      "max_height": null,
      "max_width": null,
      "min_height": null,
      "min_width": null,
      "object_fit": null,
      "object_position": null,
      "order": null,
      "overflow": null,
      "overflow_x": null,
      "overflow_y": null,
      "padding": null,
      "right": null,
      "top": null,
      "visibility": null,
      "width": null
     }
    },
    "de3abcf3da2745fd9df98ca24db93e2a": {
     "model_module": "@jupyter-widgets/controls",
     "model_module_version": "1.5.0",
     "model_name": "HBoxModel",
     "state": {
      "_dom_classes": [],
      "_model_module": "@jupyter-widgets/controls",
      "_model_module_version": "1.5.0",
      "_model_name": "HBoxModel",
      "_view_count": null,
      "_view_module": "@jupyter-widgets/controls",
      "_view_module_version": "1.5.0",
      "_view_name": "HBoxView",
      "box_style": "",
      "children": [
       "IPY_MODEL_dfed46eae4624cffb1408952e733dc40",
       "IPY_MODEL_b20950a7322c4232b9606a1e6a3467a6",
       "IPY_MODEL_114fa6818d174d318f47cf0179ecc76d"
      ],
      "layout": "IPY_MODEL_dd865ebd2a6542e2b5ad363fd3d25516"
     }
    },
    "dfed46eae4624cffb1408952e733dc40": {
     "model_module": "@jupyter-widgets/controls",
     "model_module_version": "1.5.0",
     "model_name": "HTMLModel",
     "state": {
      "_dom_classes": [],
      "_model_module": "@jupyter-widgets/controls",
      "_model_module_version": "1.5.0",
      "_model_name": "HTMLModel",
      "_view_count": null,
      "_view_module": "@jupyter-widgets/controls",
      "_view_module_version": "1.5.0",
      "_view_name": "HTMLView",
      "description": "",
      "description_tooltip": null,
      "layout": "IPY_MODEL_e92b07024cf44114949555d7f38dac02",
      "placeholder": "​",
      "style": "IPY_MODEL_0a5ed9b38ddc48d18d8b1219c5549860",
      "value": "100%"
     }
    },
    "e92b07024cf44114949555d7f38dac02": {
     "model_module": "@jupyter-widgets/base",
     "model_module_version": "1.2.0",
     "model_name": "LayoutModel",
     "state": {
      "_model_module": "@jupyter-widgets/base",
      "_model_module_version": "1.2.0",
      "_model_name": "LayoutModel",
      "_view_count": null,
      "_view_module": "@jupyter-widgets/base",
      "_view_module_version": "1.2.0",
      "_view_name": "LayoutView",
      "align_content": null,
      "align_items": null,
      "align_self": null,
      "border": null,
      "bottom": null,
      "display": null,
      "flex": null,
      "flex_flow": null,
      "grid_area": null,
      "grid_auto_columns": null,
      "grid_auto_flow": null,
      "grid_auto_rows": null,
      "grid_column": null,
      "grid_gap": null,
      "grid_row": null,
      "grid_template_areas": null,
      "grid_template_columns": null,
      "grid_template_rows": null,
      "height": null,
      "justify_content": null,
      "justify_items": null,
      "left": null,
      "margin": null,
      "max_height": null,
      "max_width": null,
      "min_height": null,
      "min_width": null,
      "object_fit": null,
      "object_position": null,
      "order": null,
      "overflow": null,
      "overflow_x": null,
      "overflow_y": null,
      "padding": null,
      "right": null,
      "top": null,
      "visibility": null,
      "width": null
     }
    },
    "ead35c878a38404bad877aff549da350": {
     "model_module": "@jupyter-widgets/controls",
     "model_module_version": "1.5.0",
     "model_name": "DescriptionStyleModel",
     "state": {
      "_model_module": "@jupyter-widgets/controls",
      "_model_module_version": "1.5.0",
      "_model_name": "DescriptionStyleModel",
      "_view_count": null,
      "_view_module": "@jupyter-widgets/base",
      "_view_module_version": "1.2.0",
      "_view_name": "StyleView",
      "description_width": ""
     }
    },
    "f3efdfd66fc94ab4a8048c78e007542c": {
     "model_module": "@jupyter-widgets/controls",
     "model_module_version": "1.5.0",
     "model_name": "FloatProgressModel",
     "state": {
      "_dom_classes": [],
      "_model_module": "@jupyter-widgets/controls",
      "_model_module_version": "1.5.0",
      "_model_name": "FloatProgressModel",
      "_view_count": null,
      "_view_module": "@jupyter-widgets/controls",
      "_view_module_version": "1.5.0",
      "_view_name": "ProgressView",
      "bar_style": "success",
      "description": "",
      "description_tooltip": null,
      "layout": "IPY_MODEL_142b015fddb24053a751cd2fb8d9aad8",
      "max": 102530333,
      "min": 0,
      "orientation": "horizontal",
      "style": "IPY_MODEL_4aa9bf310b364995af3fd3e11ea1a64a",
      "value": 102530333
     }
    },
    "fbfef0a188c14488834d69678968a618": {
     "model_module": "@jupyter-widgets/controls",
     "model_module_version": "1.5.0",
     "model_name": "HTMLModel",
     "state": {
      "_dom_classes": [],
      "_model_module": "@jupyter-widgets/controls",
      "_model_module_version": "1.5.0",
      "_model_name": "HTMLModel",
      "_view_count": null,
      "_view_module": "@jupyter-widgets/controls",
      "_view_module_version": "1.5.0",
      "_view_name": "HTMLView",
      "description": "",
      "description_tooltip": null,
      "layout": "IPY_MODEL_babbd066cd3e4763af297246b4274175",
      "placeholder": "​",
      "style": "IPY_MODEL_951da127838f413e84046b200f3b676b",
      "value": "100%"
     }
    },
    "fe6b76372e4d4020a81ff065d0729a6c": {
     "model_module": "@jupyter-widgets/base",
     "model_module_version": "1.2.0",
     "model_name": "LayoutModel",
     "state": {
      "_model_module": "@jupyter-widgets/base",
      "_model_module_version": "1.2.0",
      "_model_name": "LayoutModel",
      "_view_count": null,
      "_view_module": "@jupyter-widgets/base",
      "_view_module_version": "1.2.0",
      "_view_name": "LayoutView",
      "align_content": null,
      "align_items": null,
      "align_self": null,
      "border": null,
      "bottom": null,
      "display": null,
      "flex": null,
      "flex_flow": null,
      "grid_area": null,
      "grid_auto_columns": null,
      "grid_auto_flow": null,
      "grid_auto_rows": null,
      "grid_column": null,
      "grid_gap": null,
      "grid_row": null,
      "grid_template_areas": null,
      "grid_template_columns": null,
      "grid_template_rows": null,
      "height": null,
      "justify_content": null,
      "justify_items": null,
      "left": null,
      "margin": null,
      "max_height": null,
      "max_width": null,
      "min_height": null,
      "min_width": null,
      "object_fit": null,
      "object_position": null,
      "order": null,
      "overflow": null,
      "overflow_x": null,
      "overflow_y": null,
      "padding": null,
      "right": null,
      "top": null,
      "visibility": null,
      "width": null
     }
    }
   }
  }
 },
 "nbformat": 4,
 "nbformat_minor": 4
}
